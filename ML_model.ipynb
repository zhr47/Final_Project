{
 "cells": [
  {
   "cell_type": "code",
   "execution_count": 1,
   "metadata": {},
   "outputs": [
    {
     "name": "stdout",
     "output_type": "stream",
     "text": [
      "Requirement already up-to-date: sklearn in /Users/zhr47/opt/anaconda3/envs/PythonML/lib/python3.6/site-packages (0.0)\r\n",
      "Requirement already satisfied, skipping upgrade: scikit-learn in /Users/zhr47/opt/anaconda3/envs/PythonML/lib/python3.6/site-packages (from sklearn) (0.23.2)\r\n",
      "Requirement already satisfied, skipping upgrade: scipy>=0.19.1 in /Users/zhr47/opt/anaconda3/envs/PythonML/lib/python3.6/site-packages (from scikit-learn->sklearn) (1.5.2)\r\n",
      "Requirement already satisfied, skipping upgrade: joblib>=0.11 in /Users/zhr47/opt/anaconda3/envs/PythonML/lib/python3.6/site-packages (from scikit-learn->sklearn) (0.17.0)\r\n",
      "Requirement already satisfied, skipping upgrade: threadpoolctl>=2.0.0 in /Users/zhr47/opt/anaconda3/envs/PythonML/lib/python3.6/site-packages (from scikit-learn->sklearn) (2.1.0)\r\n",
      "Requirement already satisfied, skipping upgrade: numpy>=1.13.3 in /Users/zhr47/opt/anaconda3/envs/PythonML/lib/python3.6/site-packages (from scikit-learn->sklearn) (1.19.4)\r\n"
     ]
    }
   ],
   "source": [
    "# Update sklearn to prevent version mismatches\n",
    "!pip install sklearn --upgrade"
   ]
  },
  {
   "cell_type": "code",
   "execution_count": 2,
   "metadata": {},
   "outputs": [
    {
     "name": "stdout",
     "output_type": "stream",
     "text": [
      "Requirement already satisfied: joblib in /Users/zhr47/opt/anaconda3/envs/PythonML/lib/python3.6/site-packages (0.17.0)\r\n"
     ]
    }
   ],
   "source": [
    "# install joblib. This will be used to save your model. \n",
    "# Restart your kernel after installing \n",
    "!pip install joblib"
   ]
  },
  {
   "cell_type": "code",
   "execution_count": 3,
   "metadata": {},
   "outputs": [
    {
     "name": "stderr",
     "output_type": "stream",
     "text": [
      "/Users/zhr47/opt/anaconda3/envs/PythonML/lib/python3.6/site-packages/tensorflow/python/framework/dtypes.py:458: FutureWarning: Passing (type, 1) or '1type' as a synonym of type is deprecated; in a future version of numpy, it will be understood as (type, (1,)) / '(1,)type'.\n",
      "  _np_qint8 = np.dtype([(\"qint8\", np.int8, 1)])\n",
      "/Users/zhr47/opt/anaconda3/envs/PythonML/lib/python3.6/site-packages/tensorflow/python/framework/dtypes.py:459: FutureWarning: Passing (type, 1) or '1type' as a synonym of type is deprecated; in a future version of numpy, it will be understood as (type, (1,)) / '(1,)type'.\n",
      "  _np_quint8 = np.dtype([(\"quint8\", np.uint8, 1)])\n",
      "/Users/zhr47/opt/anaconda3/envs/PythonML/lib/python3.6/site-packages/tensorflow/python/framework/dtypes.py:460: FutureWarning: Passing (type, 1) or '1type' as a synonym of type is deprecated; in a future version of numpy, it will be understood as (type, (1,)) / '(1,)type'.\n",
      "  _np_qint16 = np.dtype([(\"qint16\", np.int16, 1)])\n",
      "/Users/zhr47/opt/anaconda3/envs/PythonML/lib/python3.6/site-packages/tensorflow/python/framework/dtypes.py:461: FutureWarning: Passing (type, 1) or '1type' as a synonym of type is deprecated; in a future version of numpy, it will be understood as (type, (1,)) / '(1,)type'.\n",
      "  _np_quint16 = np.dtype([(\"quint16\", np.uint16, 1)])\n",
      "/Users/zhr47/opt/anaconda3/envs/PythonML/lib/python3.6/site-packages/tensorflow/python/framework/dtypes.py:462: FutureWarning: Passing (type, 1) or '1type' as a synonym of type is deprecated; in a future version of numpy, it will be understood as (type, (1,)) / '(1,)type'.\n",
      "  _np_qint32 = np.dtype([(\"qint32\", np.int32, 1)])\n",
      "/Users/zhr47/opt/anaconda3/envs/PythonML/lib/python3.6/site-packages/tensorflow/python/framework/dtypes.py:465: FutureWarning: Passing (type, 1) or '1type' as a synonym of type is deprecated; in a future version of numpy, it will be understood as (type, (1,)) / '(1,)type'.\n",
      "  np_resource = np.dtype([(\"resource\", np.ubyte, 1)])\n"
     ]
    }
   ],
   "source": [
    "import pandas as pd\n",
    "import numpy as np\n",
    "import matplotlib.pyplot as plt\n",
    "import tensorflow\n",
    "import time"
   ]
  },
  {
   "cell_type": "code",
   "execution_count": 4,
   "metadata": {},
   "outputs": [],
   "source": [
    "# modelling\n",
    "from sklearn.preprocessing import StandardScaler, MinMaxScaler \n",
    "from sklearn.model_selection import train_test_split, cross_val_score \n",
    "from sklearn.linear_model import LinearRegression\n",
    "from sklearn import linear_model\n",
    "from sklearn import metrics\n",
    "\n",
    "from sklearn.metrics import explained_variance_score, mean_squared_error, r2_score"
   ]
  },
  {
   "cell_type": "code",
   "execution_count": 5,
   "metadata": {},
   "outputs": [
    {
     "data": {
      "text/html": [
       "<div>\n",
       "<style scoped>\n",
       "    .dataframe tbody tr th:only-of-type {\n",
       "        vertical-align: middle;\n",
       "    }\n",
       "\n",
       "    .dataframe tbody tr th {\n",
       "        vertical-align: top;\n",
       "    }\n",
       "\n",
       "    .dataframe thead th {\n",
       "        text-align: right;\n",
       "    }\n",
       "</style>\n",
       "<table border=\"1\" class=\"dataframe\">\n",
       "  <thead>\n",
       "    <tr style=\"text-align: right;\">\n",
       "      <th></th>\n",
       "      <th>Unnamed: 0</th>\n",
       "      <th>id</th>\n",
       "      <th>host_is_superhost</th>\n",
       "      <th>host_identity_verified</th>\n",
       "      <th>bedrooms</th>\n",
       "      <th>beds</th>\n",
       "      <th>accommodates</th>\n",
       "      <th>number_of_reviews</th>\n",
       "      <th>review_scores_rating</th>\n",
       "      <th>reviews_per_month</th>\n",
       "      <th>amenities_count</th>\n",
       "      <th>host_listings_count</th>\n",
       "      <th>instant_bookable</th>\n",
       "      <th>reviews_per_month.1</th>\n",
       "      <th>price</th>\n",
       "    </tr>\n",
       "  </thead>\n",
       "  <tbody>\n",
       "    <tr>\n",
       "      <th>0</th>\n",
       "      <td>0</td>\n",
       "      <td>2818</td>\n",
       "      <td>1</td>\n",
       "      <td>1</td>\n",
       "      <td>1.0</td>\n",
       "      <td>2.0</td>\n",
       "      <td>2</td>\n",
       "      <td>278</td>\n",
       "      <td>98.0</td>\n",
       "      <td>1.98</td>\n",
       "      <td>25</td>\n",
       "      <td>1.0</td>\n",
       "      <td>1</td>\n",
       "      <td>1.98</td>\n",
       "      <td>$59.00</td>\n",
       "    </tr>\n",
       "    <tr>\n",
       "      <th>1</th>\n",
       "      <td>1</td>\n",
       "      <td>20168</td>\n",
       "      <td>0</td>\n",
       "      <td>1</td>\n",
       "      <td>1.0</td>\n",
       "      <td>1.0</td>\n",
       "      <td>2</td>\n",
       "      <td>340</td>\n",
       "      <td>89.0</td>\n",
       "      <td>2.63</td>\n",
       "      <td>16</td>\n",
       "      <td>2.0</td>\n",
       "      <td>1</td>\n",
       "      <td>2.63</td>\n",
       "      <td>$236.00</td>\n",
       "    </tr>\n",
       "    <tr>\n",
       "      <th>2</th>\n",
       "      <td>2</td>\n",
       "      <td>25428</td>\n",
       "      <td>1</td>\n",
       "      <td>0</td>\n",
       "      <td>1.0</td>\n",
       "      <td>1.0</td>\n",
       "      <td>3</td>\n",
       "      <td>5</td>\n",
       "      <td>100.0</td>\n",
       "      <td>0.15</td>\n",
       "      <td>28</td>\n",
       "      <td>2.0</td>\n",
       "      <td>0</td>\n",
       "      <td>0.15</td>\n",
       "      <td>$125.00</td>\n",
       "    </tr>\n",
       "    <tr>\n",
       "      <th>3</th>\n",
       "      <td>3</td>\n",
       "      <td>27886</td>\n",
       "      <td>1</td>\n",
       "      <td>1</td>\n",
       "      <td>1.0</td>\n",
       "      <td>1.0</td>\n",
       "      <td>2</td>\n",
       "      <td>219</td>\n",
       "      <td>99.0</td>\n",
       "      <td>2.05</td>\n",
       "      <td>23</td>\n",
       "      <td>1.0</td>\n",
       "      <td>1</td>\n",
       "      <td>2.05</td>\n",
       "      <td>$138.00</td>\n",
       "    </tr>\n",
       "    <tr>\n",
       "      <th>4</th>\n",
       "      <td>4</td>\n",
       "      <td>28871</td>\n",
       "      <td>1</td>\n",
       "      <td>1</td>\n",
       "      <td>1.0</td>\n",
       "      <td>1.0</td>\n",
       "      <td>2</td>\n",
       "      <td>336</td>\n",
       "      <td>97.0</td>\n",
       "      <td>2.72</td>\n",
       "      <td>14</td>\n",
       "      <td>2.0</td>\n",
       "      <td>0</td>\n",
       "      <td>2.72</td>\n",
       "      <td>$75.00</td>\n",
       "    </tr>\n",
       "    <tr>\n",
       "      <th>...</th>\n",
       "      <td>...</td>\n",
       "      <td>...</td>\n",
       "      <td>...</td>\n",
       "      <td>...</td>\n",
       "      <td>...</td>\n",
       "      <td>...</td>\n",
       "      <td>...</td>\n",
       "      <td>...</td>\n",
       "      <td>...</td>\n",
       "      <td>...</td>\n",
       "      <td>...</td>\n",
       "      <td>...</td>\n",
       "      <td>...</td>\n",
       "      <td>...</td>\n",
       "      <td>...</td>\n",
       "    </tr>\n",
       "    <tr>\n",
       "      <th>18777</th>\n",
       "      <td>18777</td>\n",
       "      <td>45761390</td>\n",
       "      <td>0</td>\n",
       "      <td>1</td>\n",
       "      <td>1.0</td>\n",
       "      <td>2.0</td>\n",
       "      <td>4</td>\n",
       "      <td>0</td>\n",
       "      <td>0.0</td>\n",
       "      <td>0.00</td>\n",
       "      <td>8</td>\n",
       "      <td>892.0</td>\n",
       "      <td>1</td>\n",
       "      <td>0.00</td>\n",
       "      <td>$137.00</td>\n",
       "    </tr>\n",
       "    <tr>\n",
       "      <th>18778</th>\n",
       "      <td>18778</td>\n",
       "      <td>45763935</td>\n",
       "      <td>0</td>\n",
       "      <td>0</td>\n",
       "      <td>2.0</td>\n",
       "      <td>0.0</td>\n",
       "      <td>1</td>\n",
       "      <td>0</td>\n",
       "      <td>0.0</td>\n",
       "      <td>0.00</td>\n",
       "      <td>10</td>\n",
       "      <td>2.0</td>\n",
       "      <td>0</td>\n",
       "      <td>0.00</td>\n",
       "      <td>$120.00</td>\n",
       "    </tr>\n",
       "    <tr>\n",
       "      <th>18779</th>\n",
       "      <td>18779</td>\n",
       "      <td>45776325</td>\n",
       "      <td>0</td>\n",
       "      <td>0</td>\n",
       "      <td>1.0</td>\n",
       "      <td>1.0</td>\n",
       "      <td>2</td>\n",
       "      <td>0</td>\n",
       "      <td>0.0</td>\n",
       "      <td>0.00</td>\n",
       "      <td>19</td>\n",
       "      <td>3.0</td>\n",
       "      <td>0</td>\n",
       "      <td>0.00</td>\n",
       "      <td>$20.00</td>\n",
       "    </tr>\n",
       "    <tr>\n",
       "      <th>18780</th>\n",
       "      <td>18780</td>\n",
       "      <td>45777642</td>\n",
       "      <td>0</td>\n",
       "      <td>0</td>\n",
       "      <td>1.0</td>\n",
       "      <td>0.0</td>\n",
       "      <td>2</td>\n",
       "      <td>0</td>\n",
       "      <td>0.0</td>\n",
       "      <td>0.00</td>\n",
       "      <td>8</td>\n",
       "      <td>0.0</td>\n",
       "      <td>0</td>\n",
       "      <td>0.00</td>\n",
       "      <td>$33.00</td>\n",
       "    </tr>\n",
       "    <tr>\n",
       "      <th>18781</th>\n",
       "      <td>18781</td>\n",
       "      <td>45783000</td>\n",
       "      <td>0</td>\n",
       "      <td>1</td>\n",
       "      <td>1.0</td>\n",
       "      <td>1.0</td>\n",
       "      <td>2</td>\n",
       "      <td>0</td>\n",
       "      <td>0.0</td>\n",
       "      <td>0.00</td>\n",
       "      <td>25</td>\n",
       "      <td>1.0</td>\n",
       "      <td>1</td>\n",
       "      <td>0.00</td>\n",
       "      <td>$105.00</td>\n",
       "    </tr>\n",
       "  </tbody>\n",
       "</table>\n",
       "<p>18782 rows × 15 columns</p>\n",
       "</div>"
      ],
      "text/plain": [
       "       Unnamed: 0        id  host_is_superhost  host_identity_verified  \\\n",
       "0               0      2818                  1                       1   \n",
       "1               1     20168                  0                       1   \n",
       "2               2     25428                  1                       0   \n",
       "3               3     27886                  1                       1   \n",
       "4               4     28871                  1                       1   \n",
       "...           ...       ...                ...                     ...   \n",
       "18777       18777  45761390                  0                       1   \n",
       "18778       18778  45763935                  0                       0   \n",
       "18779       18779  45776325                  0                       0   \n",
       "18780       18780  45777642                  0                       0   \n",
       "18781       18781  45783000                  0                       1   \n",
       "\n",
       "       bedrooms  beds  accommodates  number_of_reviews  review_scores_rating  \\\n",
       "0           1.0   2.0             2                278                  98.0   \n",
       "1           1.0   1.0             2                340                  89.0   \n",
       "2           1.0   1.0             3                  5                 100.0   \n",
       "3           1.0   1.0             2                219                  99.0   \n",
       "4           1.0   1.0             2                336                  97.0   \n",
       "...         ...   ...           ...                ...                   ...   \n",
       "18777       1.0   2.0             4                  0                   0.0   \n",
       "18778       2.0   0.0             1                  0                   0.0   \n",
       "18779       1.0   1.0             2                  0                   0.0   \n",
       "18780       1.0   0.0             2                  0                   0.0   \n",
       "18781       1.0   1.0             2                  0                   0.0   \n",
       "\n",
       "       reviews_per_month  amenities_count  host_listings_count  \\\n",
       "0                   1.98               25                  1.0   \n",
       "1                   2.63               16                  2.0   \n",
       "2                   0.15               28                  2.0   \n",
       "3                   2.05               23                  1.0   \n",
       "4                   2.72               14                  2.0   \n",
       "...                  ...              ...                  ...   \n",
       "18777               0.00                8                892.0   \n",
       "18778               0.00               10                  2.0   \n",
       "18779               0.00               19                  3.0   \n",
       "18780               0.00                8                  0.0   \n",
       "18781               0.00               25                  1.0   \n",
       "\n",
       "       instant_bookable  reviews_per_month.1     price  \n",
       "0                     1                 1.98   $59.00   \n",
       "1                     1                 2.63  $236.00   \n",
       "2                     0                 0.15  $125.00   \n",
       "3                     1                 2.05  $138.00   \n",
       "4                     0                 2.72   $75.00   \n",
       "...                 ...                  ...       ...  \n",
       "18777                 1                 0.00  $137.00   \n",
       "18778                 0                 0.00  $120.00   \n",
       "18779                 0                 0.00   $20.00   \n",
       "18780                 0                 0.00   $33.00   \n",
       "18781                 1                 0.00  $105.00   \n",
       "\n",
       "[18782 rows x 15 columns]"
      ]
     },
     "execution_count": 5,
     "metadata": {},
     "output_type": "execute_result"
    }
   ],
   "source": [
    "df = pd.read_csv(\"data/simple_data_for_ML.csv\")\n",
    "df"
   ]
  },
  {
   "cell_type": "code",
   "execution_count": 6,
   "metadata": {},
   "outputs": [
    {
     "data": {
      "text/html": [
       "<div>\n",
       "<style scoped>\n",
       "    .dataframe tbody tr th:only-of-type {\n",
       "        vertical-align: middle;\n",
       "    }\n",
       "\n",
       "    .dataframe tbody tr th {\n",
       "        vertical-align: top;\n",
       "    }\n",
       "\n",
       "    .dataframe thead th {\n",
       "        text-align: right;\n",
       "    }\n",
       "</style>\n",
       "<table border=\"1\" class=\"dataframe\">\n",
       "  <thead>\n",
       "    <tr style=\"text-align: right;\">\n",
       "      <th></th>\n",
       "      <th>Unnamed: 0</th>\n",
       "      <th>id</th>\n",
       "      <th>host_is_superhost</th>\n",
       "      <th>host_identity_verified</th>\n",
       "      <th>bedrooms</th>\n",
       "      <th>beds</th>\n",
       "      <th>accommodates</th>\n",
       "      <th>number_of_reviews</th>\n",
       "      <th>review_scores_rating</th>\n",
       "      <th>reviews_per_month</th>\n",
       "      <th>amenities_count</th>\n",
       "      <th>host_listings_count</th>\n",
       "      <th>instant_bookable</th>\n",
       "      <th>reviews_per_month.1</th>\n",
       "      <th>price</th>\n",
       "    </tr>\n",
       "  </thead>\n",
       "  <tbody>\n",
       "    <tr>\n",
       "      <th>0</th>\n",
       "      <td>0</td>\n",
       "      <td>2818</td>\n",
       "      <td>1</td>\n",
       "      <td>1</td>\n",
       "      <td>1.0</td>\n",
       "      <td>2.0</td>\n",
       "      <td>2</td>\n",
       "      <td>278</td>\n",
       "      <td>98.0</td>\n",
       "      <td>1.98</td>\n",
       "      <td>25</td>\n",
       "      <td>1.0</td>\n",
       "      <td>1</td>\n",
       "      <td>1.98</td>\n",
       "      <td>59</td>\n",
       "    </tr>\n",
       "    <tr>\n",
       "      <th>1</th>\n",
       "      <td>1</td>\n",
       "      <td>20168</td>\n",
       "      <td>0</td>\n",
       "      <td>1</td>\n",
       "      <td>1.0</td>\n",
       "      <td>1.0</td>\n",
       "      <td>2</td>\n",
       "      <td>340</td>\n",
       "      <td>89.0</td>\n",
       "      <td>2.63</td>\n",
       "      <td>16</td>\n",
       "      <td>2.0</td>\n",
       "      <td>1</td>\n",
       "      <td>2.63</td>\n",
       "      <td>236</td>\n",
       "    </tr>\n",
       "    <tr>\n",
       "      <th>2</th>\n",
       "      <td>2</td>\n",
       "      <td>25428</td>\n",
       "      <td>1</td>\n",
       "      <td>0</td>\n",
       "      <td>1.0</td>\n",
       "      <td>1.0</td>\n",
       "      <td>3</td>\n",
       "      <td>5</td>\n",
       "      <td>100.0</td>\n",
       "      <td>0.15</td>\n",
       "      <td>28</td>\n",
       "      <td>2.0</td>\n",
       "      <td>0</td>\n",
       "      <td>0.15</td>\n",
       "      <td>125</td>\n",
       "    </tr>\n",
       "    <tr>\n",
       "      <th>3</th>\n",
       "      <td>3</td>\n",
       "      <td>27886</td>\n",
       "      <td>1</td>\n",
       "      <td>1</td>\n",
       "      <td>1.0</td>\n",
       "      <td>1.0</td>\n",
       "      <td>2</td>\n",
       "      <td>219</td>\n",
       "      <td>99.0</td>\n",
       "      <td>2.05</td>\n",
       "      <td>23</td>\n",
       "      <td>1.0</td>\n",
       "      <td>1</td>\n",
       "      <td>2.05</td>\n",
       "      <td>138</td>\n",
       "    </tr>\n",
       "    <tr>\n",
       "      <th>4</th>\n",
       "      <td>4</td>\n",
       "      <td>28871</td>\n",
       "      <td>1</td>\n",
       "      <td>1</td>\n",
       "      <td>1.0</td>\n",
       "      <td>1.0</td>\n",
       "      <td>2</td>\n",
       "      <td>336</td>\n",
       "      <td>97.0</td>\n",
       "      <td>2.72</td>\n",
       "      <td>14</td>\n",
       "      <td>2.0</td>\n",
       "      <td>0</td>\n",
       "      <td>2.72</td>\n",
       "      <td>75</td>\n",
       "    </tr>\n",
       "  </tbody>\n",
       "</table>\n",
       "</div>"
      ],
      "text/plain": [
       "   Unnamed: 0     id  host_is_superhost  host_identity_verified  bedrooms  \\\n",
       "0           0   2818                  1                       1       1.0   \n",
       "1           1  20168                  0                       1       1.0   \n",
       "2           2  25428                  1                       0       1.0   \n",
       "3           3  27886                  1                       1       1.0   \n",
       "4           4  28871                  1                       1       1.0   \n",
       "\n",
       "   beds  accommodates  number_of_reviews  review_scores_rating  \\\n",
       "0   2.0             2                278                  98.0   \n",
       "1   1.0             2                340                  89.0   \n",
       "2   1.0             3                  5                 100.0   \n",
       "3   1.0             2                219                  99.0   \n",
       "4   1.0             2                336                  97.0   \n",
       "\n",
       "   reviews_per_month  amenities_count  host_listings_count  instant_bookable  \\\n",
       "0               1.98               25                  1.0                 1   \n",
       "1               2.63               16                  2.0                 1   \n",
       "2               0.15               28                  2.0                 0   \n",
       "3               2.05               23                  1.0                 1   \n",
       "4               2.72               14                  2.0                 0   \n",
       "\n",
       "   reviews_per_month.1  price  \n",
       "0                 1.98     59  \n",
       "1                 2.63    236  \n",
       "2                 0.15    125  \n",
       "3                 2.05    138  \n",
       "4                 2.72     75  "
      ]
     },
     "execution_count": 6,
     "metadata": {},
     "output_type": "execute_result"
    }
   ],
   "source": [
    "df.price = df.price.str[1:-4]\n",
    "df.price = df.price.str.replace(\",\", \"\")\n",
    "df.price = df.price.astype('int64')\n",
    "df = df.loc[df.price < 1000]\n",
    "df.head()"
   ]
  },
  {
   "cell_type": "code",
   "execution_count": 7,
   "metadata": {},
   "outputs": [],
   "source": [
    "#df.price = df.price.str.replace(\"$\", \"\")\n",
    "#df.price = df.price.str.replace(\",\", \"\")\n",
    "#df.price = df.price.str.replace(\".\", \"\")\n",
    "#df.price = df.price.astype('int64')"
   ]
  },
  {
   "cell_type": "markdown",
   "metadata": {},
   "source": [
    "This section the first regression"
   ]
  },
  {
   "cell_type": "code",
   "execution_count": 8,
   "metadata": {},
   "outputs": [],
   "source": [
    "#########################"
   ]
  },
  {
   "cell_type": "code",
   "execution_count": 9,
   "metadata": {},
   "outputs": [
    {
     "name": "stdout",
     "output_type": "stream",
     "text": [
      "(18744, 3) (18744, 1)\n"
     ]
    }
   ],
   "source": [
    "X = df[['bedrooms','beds','accommodates']]\n",
    "y = df['price'].astype(float).values.reshape(-1,1)\n",
    "print (X.shape, y.shape)"
   ]
  },
  {
   "cell_type": "code",
   "execution_count": 10,
   "metadata": {},
   "outputs": [],
   "source": [
    "from sklearn.model_selection import train_test_split\n",
    "X_train, X_test, y_train, y_test = train_test_split(X,y, random_state = 42)"
   ]
  },
  {
   "cell_type": "code",
   "execution_count": 11,
   "metadata": {},
   "outputs": [],
   "source": [
    "from sklearn.linear_model import LinearRegression\n",
    "model = LinearRegression()"
   ]
  },
  {
   "cell_type": "code",
   "execution_count": 12,
   "metadata": {},
   "outputs": [
    {
     "name": "stdout",
     "output_type": "stream",
     "text": [
      "Frist Training Score: 0.25225396920863685\n",
      "First Testing Score: 0.24152146140448316\n"
     ]
    }
   ],
   "source": [
    "model.fit(X_train, y_train)\n",
    "training_score1 = model.score(X_train, y_train)\n",
    "testing_score1 = model.score(X_test, y_test)\n",
    "\n",
    "print(f\"Frist Training Score: {training_score1}\")\n",
    "print(f\"First Testing Score: {testing_score1}\")"
   ]
  },
  {
   "cell_type": "code",
   "execution_count": 13,
   "metadata": {},
   "outputs": [
    {
     "data": {
      "text/plain": [
       "Text(0.5, 1.0, 'First Residual Plot')"
      ]
     },
     "execution_count": 13,
     "metadata": {},
     "output_type": "execute_result"
    },
    {
     "data": {
      "image/png": "[encoded data removed]",
      "text/plain": [
       "<Figure size 432x288 with 1 Axes>"
      ]
     },
     "metadata": {
      "needs_background": "light"
     },
     "output_type": "display_data"
    }
   ],
   "source": [
    "plt.scatter(model.predict(X_train), y_train - model.predict(X_train), c=\"blue\", label=\"Training Data\")\n",
    "plt.scatter(model.predict(X_test), y_test - model.predict(X_test), c=\"orange\", label=\"Testing Data\")\n",
    "plt.legend()\n",
    "plt.hlines(y=0, xmin=y.min(), xmax=900)\n",
    "plt.title(\"First Residual Plot\")"
   ]
  },
  {
   "cell_type": "code",
   "execution_count": 14,
   "metadata": {},
   "outputs": [],
   "source": [
    "#########################"
   ]
  },
  {
   "cell_type": "markdown",
   "metadata": {},
   "source": [
    "The Second Regression"
   ]
  },
  {
   "cell_type": "code",
   "execution_count": 15,
   "metadata": {},
   "outputs": [],
   "source": [
    "#########################"
   ]
  },
  {
   "cell_type": "code",
   "execution_count": 16,
   "metadata": {},
   "outputs": [
    {
     "name": "stdout",
     "output_type": "stream",
     "text": [
      "(18744, 4) (18744, 1)\n"
     ]
    }
   ],
   "source": [
    "X = df[['bedrooms','beds','accommodates',\n",
    "        'number_of_reviews']]\n",
    "y = df['price'].astype(float).values.reshape(-1,1)\n",
    "print (X.shape, y.shape)"
   ]
  },
  {
   "cell_type": "code",
   "execution_count": 17,
   "metadata": {},
   "outputs": [],
   "source": [
    "from sklearn.model_selection import train_test_split\n",
    "X_train, X_test, y_train, y_test = train_test_split(X,y, random_state = 42)"
   ]
  },
  {
   "cell_type": "code",
   "execution_count": 18,
   "metadata": {},
   "outputs": [
    {
     "name": "stdout",
     "output_type": "stream",
     "text": [
      "Second Training Score: 0.25929790261217067\n",
      "Second Testing Score: 0.24851900793858417\n"
     ]
    }
   ],
   "source": [
    "model.fit(X_train, y_train)\n",
    "training_score2 = model.score(X_train, y_train)\n",
    "testing_score2 = model.score(X_test, y_test)\n",
    "\n",
    "print(f\"Second Training Score: {training_score2}\")\n",
    "print(f\"Second Testing Score: {testing_score2}\")"
   ]
  },
  {
   "cell_type": "code",
   "execution_count": 19,
   "metadata": {},
   "outputs": [
    {
     "data": {
      "text/plain": [
       "Text(0.5, 1.0, 'Second Residual Plot')"
      ]
     },
     "execution_count": 19,
     "metadata": {},
     "output_type": "execute_result"
    },
    {
     "data": {
      "image/png": "[encoded data removed]",
      "text/plain": [
       "<Figure size 432x288 with 1 Axes>"
      ]
     },
     "metadata": {
      "needs_background": "light"
     },
     "output_type": "display_data"
    }
   ],
   "source": [
    "plt.scatter(model.predict(X_train), y_train - model.predict(X_train), c=\"blue\", label=\"Training Data\")\n",
    "plt.scatter(model.predict(X_test), y_test - model.predict(X_test), c=\"orange\", label=\"Testing Data\")\n",
    "plt.legend()\n",
    "plt.hlines(y=0, xmin=y.min(), xmax=900)\n",
    "plt.title(\"Second Residual Plot\")"
   ]
  },
  {
   "cell_type": "code",
   "execution_count": 20,
   "metadata": {},
   "outputs": [],
   "source": [
    "#########################"
   ]
  },
  {
   "cell_type": "markdown",
   "metadata": {},
   "source": [
    "The Third Regression"
   ]
  },
  {
   "cell_type": "code",
   "execution_count": 21,
   "metadata": {},
   "outputs": [],
   "source": [
    "#########################"
   ]
  },
  {
   "cell_type": "code",
   "execution_count": 22,
   "metadata": {},
   "outputs": [
    {
     "name": "stdout",
     "output_type": "stream",
     "text": [
      "(18744, 6) (18744, 1)\n"
     ]
    }
   ],
   "source": [
    "X = df[['bedrooms','beds','accommodates',\n",
    "        'number_of_reviews',\n",
    "        'review_scores_rating',\n",
    "        'host_is_superhost']]\n",
    "y = df['price'].astype(float).values.reshape(-1,1)\n",
    "print (X.shape, y.shape)"
   ]
  },
  {
   "cell_type": "code",
   "execution_count": 23,
   "metadata": {},
   "outputs": [],
   "source": [
    "from sklearn.model_selection import train_test_split\n",
    "X_train, X_test, y_train, y_test = train_test_split(X,y, random_state = 42)"
   ]
  },
  {
   "cell_type": "code",
   "execution_count": 24,
   "metadata": {},
   "outputs": [
    {
     "name": "stdout",
     "output_type": "stream",
     "text": [
      "Third Training Score: 0.25944069582421203\n",
      "Third Testing Score: 0.24889446463840592\n"
     ]
    }
   ],
   "source": [
    "model.fit(X_train, y_train)\n",
    "training_score3 = model.score(X_train, y_train)\n",
    "testing_score3 = model.score(X_test, y_test)\n",
    "\n",
    "print(f\"Third Training Score: {training_score3}\")\n",
    "print(f\"Third Testing Score: {testing_score3}\")"
   ]
  },
  {
   "cell_type": "code",
   "execution_count": 25,
   "metadata": {},
   "outputs": [
    {
     "data": {
      "text/plain": [
       "Text(0.5, 1.0, 'Third Residual Plot')"
      ]
     },
     "execution_count": 25,
     "metadata": {},
     "output_type": "execute_result"
    },
    {
     "data": {
      "image/png": "[encoded data removed]",
      "text/plain": [
       "<Figure size 432x288 with 1 Axes>"
      ]
     },
     "metadata": {
      "needs_background": "light"
     },
     "output_type": "display_data"
    }
   ],
   "source": [
    "plt.scatter(model.predict(X_train), y_train - model.predict(X_train), c=\"blue\", label=\"Training Data\")\n",
    "plt.scatter(model.predict(X_test), y_test - model.predict(X_test), c=\"orange\", label=\"Testing Data\")\n",
    "plt.legend()\n",
    "plt.hlines(y=0, xmin=y.min(), xmax=900)\n",
    "plt.title(\"Third Residual Plot\")"
   ]
  },
  {
   "cell_type": "code",
   "execution_count": 26,
   "metadata": {},
   "outputs": [],
   "source": [
    "#########################"
   ]
  },
  {
   "cell_type": "raw",
   "metadata": {},
   "source": [
    "The Fourth Regression"
   ]
  },
  {
   "cell_type": "code",
   "execution_count": 27,
   "metadata": {},
   "outputs": [],
   "source": [
    "#########################"
   ]
  },
  {
   "cell_type": "code",
   "execution_count": 28,
   "metadata": {},
   "outputs": [
    {
     "name": "stdout",
     "output_type": "stream",
     "text": [
      "(18744, 8) (18744, 1)\n"
     ]
    }
   ],
   "source": [
    "X = df[['bedrooms','beds','accommodates',\n",
    "        'number_of_reviews',\n",
    "        'review_scores_rating',\n",
    "        'host_identity_verified',\n",
    "        'host_is_superhost',\n",
    "        'reviews_per_month',\n",
    "        ]]\n",
    "y = df['price'].astype(float).values.reshape(-1,1)\n",
    "print (X.shape, y.shape)"
   ]
  },
  {
   "cell_type": "code",
   "execution_count": 29,
   "metadata": {},
   "outputs": [],
   "source": [
    "X_train, X_test, y_train, y_test = train_test_split(X,y, random_state = 42)"
   ]
  },
  {
   "cell_type": "code",
   "execution_count": 30,
   "metadata": {},
   "outputs": [
    {
     "name": "stdout",
     "output_type": "stream",
     "text": [
      "Fourth Training Score: 0.2635727610182592\n",
      "Fourth Testing Score: 0.25478948905294574\n"
     ]
    }
   ],
   "source": [
    "model.fit(X_train, y_train)\n",
    "training_score4 = model.score(X_train, y_train)\n",
    "testing_score4 = model.score(X_test, y_test)\n",
    "\n",
    "print(f\"Fourth Training Score: {training_score4}\")\n",
    "print(f\"Fourth Testing Score: {testing_score4}\")"
   ]
  },
  {
   "cell_type": "code",
   "execution_count": 31,
   "metadata": {},
   "outputs": [
    {
     "data": {
      "text/plain": [
       "Text(0.5, 1.0, 'Fourth Residual Plot')"
      ]
     },
     "execution_count": 31,
     "metadata": {},
     "output_type": "execute_result"
    },
    {
     "data": {
      "image/png": "[encoded data removed]",
      "text/plain": [
       "<Figure size 432x288 with 1 Axes>"
      ]
     },
     "metadata": {
      "needs_background": "light"
     },
     "output_type": "display_data"
    }
   ],
   "source": [
    "plt.scatter(model.predict(X_train), y_train - model.predict(X_train), c=\"blue\", label=\"Training Data\")\n",
    "plt.scatter(model.predict(X_test), y_test - model.predict(X_test), c=\"orange\", label=\"Testing Data\")\n",
    "plt.legend()\n",
    "plt.hlines(y=0, xmin=y.min(), xmax=900)\n",
    "plt.title(\"Fourth Residual Plot\")"
   ]
  },
  {
   "cell_type": "code",
   "execution_count": 32,
   "metadata": {},
   "outputs": [],
   "source": [
    "#########################"
   ]
  },
  {
   "cell_type": "markdown",
   "metadata": {},
   "source": [
    "The Fifth Regression"
   ]
  },
  {
   "cell_type": "code",
   "execution_count": 33,
   "metadata": {},
   "outputs": [],
   "source": [
    "#########################"
   ]
  },
  {
   "cell_type": "code",
   "execution_count": 34,
   "metadata": {},
   "outputs": [
    {
     "name": "stdout",
     "output_type": "stream",
     "text": [
      "(18744, 13) (18744, 1)\n"
     ]
    }
   ],
   "source": [
    "X = df[['id','bedrooms','beds','accommodates',\n",
    "        'number_of_reviews',\n",
    "        'review_scores_rating',\n",
    "        'host_identity_verified',\n",
    "        'host_is_superhost',\n",
    "        'reviews_per_month',\n",
    "        'host_listings_count',\n",
    "        'amenities_count',\n",
    "        'instant_bookable',\n",
    "        'reviews_per_month']]\n",
    "y = df['price'].astype(float).values.reshape(-1,1)\n",
    "print (X.shape, y.shape)"
   ]
  },
  {
   "cell_type": "code",
   "execution_count": 35,
   "metadata": {},
   "outputs": [],
   "source": [
    "from sklearn.model_selection import train_test_split\n",
    "X_train_og, X_test_og, y_train_og, y_test_og = train_test_split(X,y, random_state = 42)"
   ]
  },
  {
   "cell_type": "code",
   "execution_count": 36,
   "metadata": {},
   "outputs": [],
   "source": [
    "X_train = X_train_og.drop(\"id\", axis=1)\n",
    "X_test = X_test_og.drop(\"id\", axis=1) \n",
    "#y_train = y_train_og.drop(\"id\", axis=1)\n",
    "#y_test = y_test_og.drop(\"id\", axis=1)"
   ]
  },
  {
   "cell_type": "code",
   "execution_count": 37,
   "metadata": {},
   "outputs": [],
   "source": [
    "X_train, X_test, y_train, y_test = train_test_split(X,y, random_state = 42)"
   ]
  },
  {
   "cell_type": "code",
   "execution_count": 38,
   "metadata": {},
   "outputs": [
    {
     "name": "stdout",
     "output_type": "stream",
     "text": [
      "Fifth Training Score: 0.2840431285146513\n",
      "Fifth Testing Score: 0.27016266005694023\n"
     ]
    }
   ],
   "source": [
    "model.fit(X_train, y_train)\n",
    "training_score5 = model.score(X_train, y_train)\n",
    "testing_score5 = model.score(X_test, y_test)\n",
    "\n",
    "print(f\"Fifth Training Score: {training_score5}\")\n",
    "print(f\"Fifth Testing Score: {testing_score5}\")"
   ]
  },
  {
   "cell_type": "code",
   "execution_count": 39,
   "metadata": {
    "scrolled": true
   },
   "outputs": [],
   "source": [
    "y_test_array = np.array(list(y_test))\n",
    "val_preds_hpm_reg_array = np.array(model.predict(X_test))\n",
    "\n",
    "Predicted_df_test = pd.DataFrame({'Actual': y_test_array.flatten(), 'Predicted': val_preds_hpm_reg_array.flatten()})\n"
   ]
  },
  {
   "cell_type": "code",
   "execution_count": 40,
   "metadata": {},
   "outputs": [],
   "source": [
    "y_test_array = np.array(list(y_train))\n",
    "val_preds_hpm_reg_array = np.array(model.predict(X_train))\n",
    "\n",
    "Predicted_df_train = pd.DataFrame({'Actual': y_test_array.flatten(), 'Predicted': val_preds_hpm_reg_array.flatten()})"
   ]
  },
  {
   "cell_type": "code",
   "execution_count": 41,
   "metadata": {},
   "outputs": [
    {
     "data": {
      "text/plain": [
       "Text(0.5, 1.0, 'Fifth Residual Plot')"
      ]
     },
     "execution_count": 41,
     "metadata": {},
     "output_type": "execute_result"
    },
    {
     "data": {
      "image/png": "[encoded data removed]",
      "text/plain": [
       "<Figure size 432x288 with 1 Axes>"
      ]
     },
     "metadata": {
      "needs_background": "light"
     },
     "output_type": "display_data"
    }
   ],
   "source": [
    "plt.scatter(model.predict(X_train), y_train - model.predict(X_train), c=\"blue\", label=\"Training Data\")\n",
    "plt.scatter(model.predict(X_test), y_test - model.predict(X_test), c=\"orange\", label=\"Testing Data\")\n",
    "plt.legend()\n",
    "plt.hlines(y=0, xmin=y.min(), xmax=900)\n",
    "plt.title(\"Fifth Residual Plot\")"
   ]
  },
  {
   "cell_type": "code",
   "execution_count": 42,
   "metadata": {},
   "outputs": [],
   "source": [
    "#########################"
   ]
  },
  {
   "cell_type": "code",
   "execution_count": 43,
   "metadata": {},
   "outputs": [
    {
     "name": "stdout",
     "output_type": "stream",
     "text": [
      "Frist Training Score: 0.25225396920863685\n",
      "First Testing Score: 0.24152146140448316\n"
     ]
    }
   ],
   "source": [
    "print(f\"Frist Training Score: {training_score1}\")\n",
    "print(f\"First Testing Score: {testing_score1}\")"
   ]
  },
  {
   "cell_type": "code",
   "execution_count": 44,
   "metadata": {},
   "outputs": [
    {
     "name": "stdout",
     "output_type": "stream",
     "text": [
      "Second Training Score: 0.25929790261217067\n",
      "Second Testing Score: 0.24851900793858417\n"
     ]
    }
   ],
   "source": [
    "print(f\"Second Training Score: {training_score2}\")\n",
    "print(f\"Second Testing Score: {testing_score2}\")"
   ]
  },
  {
   "cell_type": "code",
   "execution_count": 45,
   "metadata": {},
   "outputs": [
    {
     "name": "stdout",
     "output_type": "stream",
     "text": [
      "Third Training Score: 0.25944069582421203\n",
      "Third Testing Score: 0.24889446463840592\n"
     ]
    }
   ],
   "source": [
    "print(f\"Third Training Score: {training_score3}\")\n",
    "print(f\"Third Testing Score: {testing_score3}\")"
   ]
  },
  {
   "cell_type": "code",
   "execution_count": 46,
   "metadata": {},
   "outputs": [
    {
     "name": "stdout",
     "output_type": "stream",
     "text": [
      "Fourth Training Score: 0.2635727610182592\n",
      "Fourth Testing Score: 0.25478948905294574\n"
     ]
    }
   ],
   "source": [
    "print(f\"Fourth Training Score: {training_score4}\")\n",
    "print(f\"Fourth Testing Score: {testing_score4}\")"
   ]
  },
  {
   "cell_type": "code",
   "execution_count": 47,
   "metadata": {},
   "outputs": [
    {
     "name": "stdout",
     "output_type": "stream",
     "text": [
      "Fifth Training Score: 0.2840431285146513\n",
      "Fifth Testing Score: 0.27016266005694023\n"
     ]
    }
   ],
   "source": [
    "print(f\"Fifth Training Score: {training_score5}\")\n",
    "print(f\"Fifth Testing Score: {testing_score5}\")"
   ]
  },
  {
   "cell_type": "code",
   "execution_count": 48,
   "metadata": {},
   "outputs": [],
   "source": [
    "#########################"
   ]
  },
  {
   "cell_type": "code",
   "execution_count": null,
   "metadata": {},
   "outputs": [],
   "source": []
  },
  {
   "cell_type": "code",
   "execution_count": 49,
   "metadata": {},
   "outputs": [
    {
     "data": {
      "text/plain": [
       "array([[117.92141861],\n",
       "       [216.12541473],\n",
       "       [116.9622128 ],\n",
       "       ...,\n",
       "       [226.21457627],\n",
       "       [227.80100236],\n",
       "       [119.61475911]])"
      ]
     },
     "execution_count": 49,
     "metadata": {},
     "output_type": "execute_result"
    }
   ],
   "source": [
    "model.predict(X_test)"
   ]
  },
  {
   "cell_type": "code",
   "execution_count": 50,
   "metadata": {},
   "outputs": [
    {
     "name": "stderr",
     "output_type": "stream",
     "text": [
      "/Users/zhr47/opt/anaconda3/envs/PythonML/lib/python3.6/site-packages/ipykernel_launcher.py:1: SettingWithCopyWarning: \n",
      "A value is trying to be set on a copy of a slice from a DataFrame.\n",
      "Try using .loc[row_indexer,col_indexer] = value instead\n",
      "\n",
      "See the caveats in the documentation: https://pandas.pydata.org/pandas-docs/stable/user_guide/indexing.html#returning-a-view-versus-a-copy\n",
      "  \"\"\"Entry point for launching an IPython kernel.\n"
     ]
    }
   ],
   "source": [
    "X_test_og[\"predicted\"] = model.predict(X_test)"
   ]
  },
  {
   "cell_type": "code",
   "execution_count": 51,
   "metadata": {},
   "outputs": [],
   "source": [
    "dfnew = X_test_og.copy()"
   ]
  },
  {
   "cell_type": "code",
   "execution_count": 52,
   "metadata": {},
   "outputs": [
    {
     "data": {
      "text/html": [
       "<div>\n",
       "<style scoped>\n",
       "    .dataframe tbody tr th:only-of-type {\n",
       "        vertical-align: middle;\n",
       "    }\n",
       "\n",
       "    .dataframe tbody tr th {\n",
       "        vertical-align: top;\n",
       "    }\n",
       "\n",
       "    .dataframe thead th {\n",
       "        text-align: right;\n",
       "    }\n",
       "</style>\n",
       "<table border=\"1\" class=\"dataframe\">\n",
       "  <thead>\n",
       "    <tr style=\"text-align: right;\">\n",
       "      <th></th>\n",
       "      <th>id</th>\n",
       "      <th>bedrooms</th>\n",
       "      <th>beds</th>\n",
       "      <th>accommodates</th>\n",
       "      <th>number_of_reviews</th>\n",
       "      <th>review_scores_rating</th>\n",
       "      <th>host_identity_verified</th>\n",
       "      <th>host_is_superhost</th>\n",
       "      <th>reviews_per_month</th>\n",
       "      <th>host_listings_count</th>\n",
       "      <th>amenities_count</th>\n",
       "      <th>instant_bookable</th>\n",
       "      <th>reviews_per_month</th>\n",
       "      <th>predicted</th>\n",
       "    </tr>\n",
       "  </thead>\n",
       "  <tbody>\n",
       "    <tr>\n",
       "      <th>4714</th>\n",
       "      <td>10004773</td>\n",
       "      <td>1.0</td>\n",
       "      <td>1.0</td>\n",
       "      <td>2</td>\n",
       "      <td>3</td>\n",
       "      <td>93.0</td>\n",
       "      <td>1</td>\n",
       "      <td>0</td>\n",
       "      <td>0.06</td>\n",
       "      <td>1.0</td>\n",
       "      <td>12</td>\n",
       "      <td>0</td>\n",
       "      <td>0.06</td>\n",
       "      <td>117.921419</td>\n",
       "    </tr>\n",
       "    <tr>\n",
       "      <th>14328</th>\n",
       "      <td>30545791</td>\n",
       "      <td>2.0</td>\n",
       "      <td>2.0</td>\n",
       "      <td>4</td>\n",
       "      <td>13</td>\n",
       "      <td>97.0</td>\n",
       "      <td>1</td>\n",
       "      <td>1</td>\n",
       "      <td>0.77</td>\n",
       "      <td>1.0</td>\n",
       "      <td>38</td>\n",
       "      <td>0</td>\n",
       "      <td>0.77</td>\n",
       "      <td>216.125415</td>\n",
       "    </tr>\n",
       "    <tr>\n",
       "      <th>18714</th>\n",
       "      <td>45539791</td>\n",
       "      <td>1.0</td>\n",
       "      <td>1.0</td>\n",
       "      <td>2</td>\n",
       "      <td>0</td>\n",
       "      <td>0.0</td>\n",
       "      <td>1</td>\n",
       "      <td>0</td>\n",
       "      <td>0.00</td>\n",
       "      <td>0.0</td>\n",
       "      <td>5</td>\n",
       "      <td>1</td>\n",
       "      <td>0.00</td>\n",
       "      <td>116.962213</td>\n",
       "    </tr>\n",
       "    <tr>\n",
       "      <th>7510</th>\n",
       "      <td>15285356</td>\n",
       "      <td>0.0</td>\n",
       "      <td>2.0</td>\n",
       "      <td>4</td>\n",
       "      <td>6</td>\n",
       "      <td>92.0</td>\n",
       "      <td>0</td>\n",
       "      <td>0</td>\n",
       "      <td>0.14</td>\n",
       "      <td>1.0</td>\n",
       "      <td>7</td>\n",
       "      <td>0</td>\n",
       "      <td>0.14</td>\n",
       "      <td>135.597201</td>\n",
       "    </tr>\n",
       "    <tr>\n",
       "      <th>4939</th>\n",
       "      <td>10582203</td>\n",
       "      <td>4.0</td>\n",
       "      <td>4.0</td>\n",
       "      <td>4</td>\n",
       "      <td>23</td>\n",
       "      <td>97.0</td>\n",
       "      <td>1</td>\n",
       "      <td>0</td>\n",
       "      <td>0.43</td>\n",
       "      <td>1.0</td>\n",
       "      <td>47</td>\n",
       "      <td>0</td>\n",
       "      <td>0.43</td>\n",
       "      <td>268.075726</td>\n",
       "    </tr>\n",
       "    <tr>\n",
       "      <th>...</th>\n",
       "      <td>...</td>\n",
       "      <td>...</td>\n",
       "      <td>...</td>\n",
       "      <td>...</td>\n",
       "      <td>...</td>\n",
       "      <td>...</td>\n",
       "      <td>...</td>\n",
       "      <td>...</td>\n",
       "      <td>...</td>\n",
       "      <td>...</td>\n",
       "      <td>...</td>\n",
       "      <td>...</td>\n",
       "      <td>...</td>\n",
       "      <td>...</td>\n",
       "    </tr>\n",
       "    <tr>\n",
       "      <th>8951</th>\n",
       "      <td>18234191</td>\n",
       "      <td>2.0</td>\n",
       "      <td>2.0</td>\n",
       "      <td>4</td>\n",
       "      <td>21</td>\n",
       "      <td>97.0</td>\n",
       "      <td>1</td>\n",
       "      <td>1</td>\n",
       "      <td>0.53</td>\n",
       "      <td>3.0</td>\n",
       "      <td>7</td>\n",
       "      <td>1</td>\n",
       "      <td>0.53</td>\n",
       "      <td>173.807282</td>\n",
       "    </tr>\n",
       "    <tr>\n",
       "      <th>16527</th>\n",
       "      <td>38447036</td>\n",
       "      <td>1.0</td>\n",
       "      <td>1.0</td>\n",
       "      <td>2</td>\n",
       "      <td>1</td>\n",
       "      <td>100.0</td>\n",
       "      <td>0</td>\n",
       "      <td>0</td>\n",
       "      <td>0.08</td>\n",
       "      <td>0.0</td>\n",
       "      <td>28</td>\n",
       "      <td>1</td>\n",
       "      <td>0.08</td>\n",
       "      <td>139.892727</td>\n",
       "    </tr>\n",
       "    <tr>\n",
       "      <th>11027</th>\n",
       "      <td>21676838</td>\n",
       "      <td>3.0</td>\n",
       "      <td>4.0</td>\n",
       "      <td>4</td>\n",
       "      <td>56</td>\n",
       "      <td>99.0</td>\n",
       "      <td>1</td>\n",
       "      <td>0</td>\n",
       "      <td>1.59</td>\n",
       "      <td>2.0</td>\n",
       "      <td>38</td>\n",
       "      <td>0</td>\n",
       "      <td>1.59</td>\n",
       "      <td>226.214576</td>\n",
       "    </tr>\n",
       "    <tr>\n",
       "      <th>11217</th>\n",
       "      <td>21979111</td>\n",
       "      <td>3.0</td>\n",
       "      <td>3.0</td>\n",
       "      <td>4</td>\n",
       "      <td>3</td>\n",
       "      <td>100.0</td>\n",
       "      <td>1</td>\n",
       "      <td>0</td>\n",
       "      <td>0.09</td>\n",
       "      <td>1.0</td>\n",
       "      <td>29</td>\n",
       "      <td>0</td>\n",
       "      <td>0.09</td>\n",
       "      <td>227.801002</td>\n",
       "    </tr>\n",
       "    <tr>\n",
       "      <th>18199</th>\n",
       "      <td>43842702</td>\n",
       "      <td>1.0</td>\n",
       "      <td>3.0</td>\n",
       "      <td>3</td>\n",
       "      <td>12</td>\n",
       "      <td>90.0</td>\n",
       "      <td>0</td>\n",
       "      <td>0</td>\n",
       "      <td>3.43</td>\n",
       "      <td>0.0</td>\n",
       "      <td>15</td>\n",
       "      <td>0</td>\n",
       "      <td>3.43</td>\n",
       "      <td>119.614759</td>\n",
       "    </tr>\n",
       "  </tbody>\n",
       "</table>\n",
       "<p>4686 rows × 14 columns</p>\n",
       "</div>"
      ],
      "text/plain": [
       "             id  bedrooms  beds  accommodates  number_of_reviews  \\\n",
       "4714   10004773       1.0   1.0             2                  3   \n",
       "14328  30545791       2.0   2.0             4                 13   \n",
       "18714  45539791       1.0   1.0             2                  0   \n",
       "7510   15285356       0.0   2.0             4                  6   \n",
       "4939   10582203       4.0   4.0             4                 23   \n",
       "...         ...       ...   ...           ...                ...   \n",
       "8951   18234191       2.0   2.0             4                 21   \n",
       "16527  38447036       1.0   1.0             2                  1   \n",
       "11027  21676838       3.0   4.0             4                 56   \n",
       "11217  21979111       3.0   3.0             4                  3   \n",
       "18199  43842702       1.0   3.0             3                 12   \n",
       "\n",
       "       review_scores_rating  host_identity_verified  host_is_superhost  \\\n",
       "4714                   93.0                       1                  0   \n",
       "14328                  97.0                       1                  1   \n",
       "18714                   0.0                       1                  0   \n",
       "7510                   92.0                       0                  0   \n",
       "4939                   97.0                       1                  0   \n",
       "...                     ...                     ...                ...   \n",
       "8951                   97.0                       1                  1   \n",
       "16527                 100.0                       0                  0   \n",
       "11027                  99.0                       1                  0   \n",
       "11217                 100.0                       1                  0   \n",
       "18199                  90.0                       0                  0   \n",
       "\n",
       "       reviews_per_month  host_listings_count  amenities_count  \\\n",
       "4714                0.06                  1.0               12   \n",
       "14328               0.77                  1.0               38   \n",
       "18714               0.00                  0.0                5   \n",
       "7510                0.14                  1.0                7   \n",
       "4939                0.43                  1.0               47   \n",
       "...                  ...                  ...              ...   \n",
       "8951                0.53                  3.0                7   \n",
       "16527               0.08                  0.0               28   \n",
       "11027               1.59                  2.0               38   \n",
       "11217               0.09                  1.0               29   \n",
       "18199               3.43                  0.0               15   \n",
       "\n",
       "       instant_bookable  reviews_per_month   predicted  \n",
       "4714                  0               0.06  117.921419  \n",
       "14328                 0               0.77  216.125415  \n",
       "18714                 1               0.00  116.962213  \n",
       "7510                  0               0.14  135.597201  \n",
       "4939                  0               0.43  268.075726  \n",
       "...                 ...                ...         ...  \n",
       "8951                  1               0.53  173.807282  \n",
       "16527                 1               0.08  139.892727  \n",
       "11027                 0               1.59  226.214576  \n",
       "11217                 0               0.09  227.801002  \n",
       "18199                 0               3.43  119.614759  \n",
       "\n",
       "[4686 rows x 14 columns]"
      ]
     },
     "execution_count": 52,
     "metadata": {},
     "output_type": "execute_result"
    }
   ],
   "source": [
    "dfnew"
   ]
  },
  {
   "cell_type": "code",
   "execution_count": 53,
   "metadata": {},
   "outputs": [],
   "source": [
    "listings = pd.read_csv(\"data/listings.csv\")"
   ]
  },
  {
   "cell_type": "code",
   "execution_count": 54,
   "metadata": {},
   "outputs": [
    {
     "data": {
      "text/html": [
       "<div>\n",
       "<style scoped>\n",
       "    .dataframe tbody tr th:only-of-type {\n",
       "        vertical-align: middle;\n",
       "    }\n",
       "\n",
       "    .dataframe tbody tr th {\n",
       "        vertical-align: top;\n",
       "    }\n",
       "\n",
       "    .dataframe thead th {\n",
       "        text-align: right;\n",
       "    }\n",
       "</style>\n",
       "<table border=\"1\" class=\"dataframe\">\n",
       "  <thead>\n",
       "    <tr style=\"text-align: right;\">\n",
       "      <th></th>\n",
       "      <th>id</th>\n",
       "      <th>listing_url</th>\n",
       "      <th>scrape_id</th>\n",
       "      <th>last_scraped</th>\n",
       "      <th>name</th>\n",
       "      <th>description</th>\n",
       "      <th>neighborhood_overview</th>\n",
       "      <th>picture_url</th>\n",
       "      <th>host_id</th>\n",
       "      <th>host_url</th>\n",
       "      <th>...</th>\n",
       "      <th>review_scores_location</th>\n",
       "      <th>review_scores_value</th>\n",
       "      <th>license</th>\n",
       "      <th>instant_bookable</th>\n",
       "      <th>calculated_host_listings_count</th>\n",
       "      <th>calculated_host_listings_count_entire_homes</th>\n",
       "      <th>calculated_host_listings_count_private_rooms</th>\n",
       "      <th>calculated_host_listings_count_shared_rooms</th>\n",
       "      <th>reviews_per_month</th>\n",
       "      <th>predicted</th>\n",
       "    </tr>\n",
       "  </thead>\n",
       "  <tbody>\n",
       "    <tr>\n",
       "      <th>0</th>\n",
       "      <td>2818</td>\n",
       "      <td>https://www.airbnb.com/rooms/2818</td>\n",
       "      <td>2.020100e+13</td>\n",
       "      <td>10/11/20</td>\n",
       "      <td>Quiet Garden View Room &amp; Super Fast WiFi</td>\n",
       "      <td>Quiet Garden View Room &amp; Super Fast WiFi&lt;br /&gt;...</td>\n",
       "      <td>Indische Buurt (\"Indies Neighborhood\") is a ne...</td>\n",
       "      <td>https://a0.muscache.com/pictures/10272854/8dcc...</td>\n",
       "      <td>3159</td>\n",
       "      <td>https://www.airbnb.com/users/show/3159</td>\n",
       "      <td>...</td>\n",
       "      <td>9.0</td>\n",
       "      <td>10.0</td>\n",
       "      <td>NaN</td>\n",
       "      <td>t</td>\n",
       "      <td>1</td>\n",
       "      <td>0</td>\n",
       "      <td>1</td>\n",
       "      <td>0</td>\n",
       "      <td>1.98</td>\n",
       "      <td>102.508658</td>\n",
       "    </tr>\n",
       "    <tr>\n",
       "      <th>1</th>\n",
       "      <td>27886</td>\n",
       "      <td>https://www.airbnb.com/rooms/27886</td>\n",
       "      <td>2.020100e+13</td>\n",
       "      <td>10/10/20</td>\n",
       "      <td>Romantic, stylish B&amp;B houseboat in canal district</td>\n",
       "      <td>Stylish and romantic houseboat on fantastic hi...</td>\n",
       "      <td>Central, quiet, safe, clean and beautiful.</td>\n",
       "      <td>https://a0.muscache.com/pictures/02c2da9d-660e...</td>\n",
       "      <td>97647</td>\n",
       "      <td>https://www.airbnb.com/users/show/97647</td>\n",
       "      <td>...</td>\n",
       "      <td>10.0</td>\n",
       "      <td>10.0</td>\n",
       "      <td>NaN</td>\n",
       "      <td>t</td>\n",
       "      <td>1</td>\n",
       "      <td>0</td>\n",
       "      <td>1</td>\n",
       "      <td>0</td>\n",
       "      <td>2.05</td>\n",
       "      <td>104.656624</td>\n",
       "    </tr>\n",
       "    <tr>\n",
       "      <th>2</th>\n",
       "      <td>29051</td>\n",
       "      <td>https://www.airbnb.com/rooms/29051</td>\n",
       "      <td>2.020100e+13</td>\n",
       "      <td>10/10/20</td>\n",
       "      <td>Comfortable single room</td>\n",
       "      <td>This room can also accomodate 2 people.  For a...</td>\n",
       "      <td>the street is quite lively especially on weeke...</td>\n",
       "      <td>https://a0.muscache.com/pictures/162009/bd6be2...</td>\n",
       "      <td>124245</td>\n",
       "      <td>https://www.airbnb.com/users/show/124245</td>\n",
       "      <td>...</td>\n",
       "      <td>10.0</td>\n",
       "      <td>9.0</td>\n",
       "      <td>NaN</td>\n",
       "      <td>f</td>\n",
       "      <td>2</td>\n",
       "      <td>0</td>\n",
       "      <td>2</td>\n",
       "      <td>0</td>\n",
       "      <td>4.13</td>\n",
       "      <td>40.420430</td>\n",
       "    </tr>\n",
       "    <tr>\n",
       "      <th>3</th>\n",
       "      <td>43109</td>\n",
       "      <td>https://www.airbnb.com/rooms/43109</td>\n",
       "      <td>2.020100e+13</td>\n",
       "      <td>10/14/20</td>\n",
       "      <td>Oasis in the middle of Amsterdam</td>\n",
       "      <td>&lt;b&gt;The space&lt;/b&gt;&lt;br /&gt;Welcome to my beautiful....</td>\n",
       "      <td>You almost can't be more central then this.</td>\n",
       "      <td>https://a0.muscache.com/pictures/241908/ec20bf...</td>\n",
       "      <td>188098</td>\n",
       "      <td>https://www.airbnb.com/users/show/188098</td>\n",
       "      <td>...</td>\n",
       "      <td>10.0</td>\n",
       "      <td>9.0</td>\n",
       "      <td>NaN</td>\n",
       "      <td>f</td>\n",
       "      <td>1</td>\n",
       "      <td>1</td>\n",
       "      <td>0</td>\n",
       "      <td>0</td>\n",
       "      <td>5.03</td>\n",
       "      <td>139.036759</td>\n",
       "    </tr>\n",
       "    <tr>\n",
       "      <th>4</th>\n",
       "      <td>50515</td>\n",
       "      <td>https://www.airbnb.com/rooms/50515</td>\n",
       "      <td>2.020100e+13</td>\n",
       "      <td>10/11/20</td>\n",
       "      <td>Family Home (No drugs, smoking or parties)</td>\n",
       "      <td>This is a beautiful family home in a lovely pa...</td>\n",
       "      <td>Our neighborhood is a lovely part of Amsterdam...</td>\n",
       "      <td>https://a0.muscache.com/pictures/32271278/ccff...</td>\n",
       "      <td>231864</td>\n",
       "      <td>https://www.airbnb.com/users/show/231864</td>\n",
       "      <td>...</td>\n",
       "      <td>9.0</td>\n",
       "      <td>10.0</td>\n",
       "      <td>NaN</td>\n",
       "      <td>f</td>\n",
       "      <td>1</td>\n",
       "      <td>1</td>\n",
       "      <td>0</td>\n",
       "      <td>0</td>\n",
       "      <td>0.22</td>\n",
       "      <td>251.343885</td>\n",
       "    </tr>\n",
       "    <tr>\n",
       "      <th>...</th>\n",
       "      <td>...</td>\n",
       "      <td>...</td>\n",
       "      <td>...</td>\n",
       "      <td>...</td>\n",
       "      <td>...</td>\n",
       "      <td>...</td>\n",
       "      <td>...</td>\n",
       "      <td>...</td>\n",
       "      <td>...</td>\n",
       "      <td>...</td>\n",
       "      <td>...</td>\n",
       "      <td>...</td>\n",
       "      <td>...</td>\n",
       "      <td>...</td>\n",
       "      <td>...</td>\n",
       "      <td>...</td>\n",
       "      <td>...</td>\n",
       "      <td>...</td>\n",
       "      <td>...</td>\n",
       "      <td>...</td>\n",
       "      <td>...</td>\n",
       "    </tr>\n",
       "    <tr>\n",
       "      <th>4681</th>\n",
       "      <td>45673348</td>\n",
       "      <td>https://www.airbnb.com/rooms/45673348</td>\n",
       "      <td>2.020100e+13</td>\n",
       "      <td>10/11/20</td>\n",
       "      <td>Beautiful double room city centre TOP Location</td>\n",
       "      <td>A beautiful room in  an apartment on a Unesco-...</td>\n",
       "      <td>Cafes, restaurants and supermarket are just at...</td>\n",
       "      <td>https://a0.muscache.com/pictures/8f21dce1-daf5...</td>\n",
       "      <td>10389086</td>\n",
       "      <td>https://www.airbnb.com/users/show/10389086</td>\n",
       "      <td>...</td>\n",
       "      <td>NaN</td>\n",
       "      <td>NaN</td>\n",
       "      <td>NaN</td>\n",
       "      <td>t</td>\n",
       "      <td>2</td>\n",
       "      <td>0</td>\n",
       "      <td>2</td>\n",
       "      <td>0</td>\n",
       "      <td>NaN</td>\n",
       "      <td>158.776948</td>\n",
       "    </tr>\n",
       "    <tr>\n",
       "      <th>4682</th>\n",
       "      <td>45695711</td>\n",
       "      <td>https://www.airbnb.com/rooms/45695711</td>\n",
       "      <td>2.020100e+13</td>\n",
       "      <td>10/11/20</td>\n",
       "      <td>Private Triple Room, Euphemia Hotel , city centre</td>\n",
       "      <td>The Euphemia was formerly a monastery built at...</td>\n",
       "      <td>The Fokke Simonszstraat is a quiet street in t...</td>\n",
       "      <td>https://a0.muscache.com/pictures/9e370e49-3354...</td>\n",
       "      <td>367808546</td>\n",
       "      <td>https://www.airbnb.com/users/show/367808546</td>\n",
       "      <td>...</td>\n",
       "      <td>NaN</td>\n",
       "      <td>NaN</td>\n",
       "      <td>NaN</td>\n",
       "      <td>t</td>\n",
       "      <td>5</td>\n",
       "      <td>0</td>\n",
       "      <td>5</td>\n",
       "      <td>0</td>\n",
       "      <td>NaN</td>\n",
       "      <td>147.520442</td>\n",
       "    </tr>\n",
       "    <tr>\n",
       "      <th>4683</th>\n",
       "      <td>45747871</td>\n",
       "      <td>https://www.airbnb.com/rooms/45747871</td>\n",
       "      <td>2.020100e+13</td>\n",
       "      <td>10/13/20</td>\n",
       "      <td>Garden view city centre penthouse suite</td>\n",
       "      <td>The fully renewed art deco design bed and brea...</td>\n",
       "      <td>NaN</td>\n",
       "      <td>https://a0.muscache.com/pictures/1854c2e4-266b...</td>\n",
       "      <td>29403408</td>\n",
       "      <td>https://www.airbnb.com/users/show/29403408</td>\n",
       "      <td>...</td>\n",
       "      <td>NaN</td>\n",
       "      <td>NaN</td>\n",
       "      <td>NaN</td>\n",
       "      <td>t</td>\n",
       "      <td>1</td>\n",
       "      <td>0</td>\n",
       "      <td>1</td>\n",
       "      <td>0</td>\n",
       "      <td>NaN</td>\n",
       "      <td>123.093822</td>\n",
       "    </tr>\n",
       "    <tr>\n",
       "      <th>4684</th>\n",
       "      <td>45761390</td>\n",
       "      <td>https://www.airbnb.com/rooms/45761390</td>\n",
       "      <td>2.020100e+13</td>\n",
       "      <td>10/10/20</td>\n",
       "      <td>Charming 1Room Apartment in Amsterdam</td>\n",
       "      <td>Nice flat in the ground floor in the west area...</td>\n",
       "      <td>NaN</td>\n",
       "      <td>https://a0.muscache.com/pictures/766447f8-1ec7...</td>\n",
       "      <td>310835509</td>\n",
       "      <td>https://www.airbnb.com/users/show/310835509</td>\n",
       "      <td>...</td>\n",
       "      <td>NaN</td>\n",
       "      <td>NaN</td>\n",
       "      <td>NaN</td>\n",
       "      <td>t</td>\n",
       "      <td>1</td>\n",
       "      <td>1</td>\n",
       "      <td>0</td>\n",
       "      <td>0</td>\n",
       "      <td>NaN</td>\n",
       "      <td>719.214965</td>\n",
       "    </tr>\n",
       "    <tr>\n",
       "      <th>4685</th>\n",
       "      <td>45777642</td>\n",
       "      <td>https://www.airbnb.com/rooms/45777642</td>\n",
       "      <td>2.020100e+13</td>\n",
       "      <td>10/13/20</td>\n",
       "      <td>Studio in Amsterdam</td>\n",
       "      <td>Hello!&lt;br /&gt;My room is free for 2 weeks Octobe...</td>\n",
       "      <td>NaN</td>\n",
       "      <td>https://a0.muscache.com/pictures/2ef85d3f-9c1e...</td>\n",
       "      <td>75268907</td>\n",
       "      <td>https://www.airbnb.com/users/show/75268907</td>\n",
       "      <td>...</td>\n",
       "      <td>NaN</td>\n",
       "      <td>NaN</td>\n",
       "      <td>NaN</td>\n",
       "      <td>f</td>\n",
       "      <td>1</td>\n",
       "      <td>1</td>\n",
       "      <td>0</td>\n",
       "      <td>0</td>\n",
       "      <td>NaN</td>\n",
       "      <td>121.065285</td>\n",
       "    </tr>\n",
       "  </tbody>\n",
       "</table>\n",
       "<p>4686 rows × 75 columns</p>\n",
       "</div>"
      ],
      "text/plain": [
       "            id                            listing_url     scrape_id  \\\n",
       "0         2818      https://www.airbnb.com/rooms/2818  2.020100e+13   \n",
       "1        27886     https://www.airbnb.com/rooms/27886  2.020100e+13   \n",
       "2        29051     https://www.airbnb.com/rooms/29051  2.020100e+13   \n",
       "3        43109     https://www.airbnb.com/rooms/43109  2.020100e+13   \n",
       "4        50515     https://www.airbnb.com/rooms/50515  2.020100e+13   \n",
       "...        ...                                    ...           ...   \n",
       "4681  45673348  https://www.airbnb.com/rooms/45673348  2.020100e+13   \n",
       "4682  45695711  https://www.airbnb.com/rooms/45695711  2.020100e+13   \n",
       "4683  45747871  https://www.airbnb.com/rooms/45747871  2.020100e+13   \n",
       "4684  45761390  https://www.airbnb.com/rooms/45761390  2.020100e+13   \n",
       "4685  45777642  https://www.airbnb.com/rooms/45777642  2.020100e+13   \n",
       "\n",
       "     last_scraped                                               name  \\\n",
       "0        10/11/20           Quiet Garden View Room & Super Fast WiFi   \n",
       "1        10/10/20  Romantic, stylish B&B houseboat in canal district   \n",
       "2        10/10/20                            Comfortable single room   \n",
       "3        10/14/20                   Oasis in the middle of Amsterdam   \n",
       "4        10/11/20         Family Home (No drugs, smoking or parties)   \n",
       "...           ...                                                ...   \n",
       "4681     10/11/20     Beautiful double room city centre TOP Location   \n",
       "4682     10/11/20  Private Triple Room, Euphemia Hotel , city centre   \n",
       "4683     10/13/20            Garden view city centre penthouse suite   \n",
       "4684     10/10/20              Charming 1Room Apartment in Amsterdam   \n",
       "4685     10/13/20                                Studio in Amsterdam   \n",
       "\n",
       "                                            description  \\\n",
       "0     Quiet Garden View Room & Super Fast WiFi<br />...   \n",
       "1     Stylish and romantic houseboat on fantastic hi...   \n",
       "2     This room can also accomodate 2 people.  For a...   \n",
       "3     <b>The space</b><br />Welcome to my beautiful....   \n",
       "4     This is a beautiful family home in a lovely pa...   \n",
       "...                                                 ...   \n",
       "4681  A beautiful room in  an apartment on a Unesco-...   \n",
       "4682  The Euphemia was formerly a monastery built at...   \n",
       "4683  The fully renewed art deco design bed and brea...   \n",
       "4684  Nice flat in the ground floor in the west area...   \n",
       "4685  Hello!<br />My room is free for 2 weeks Octobe...   \n",
       "\n",
       "                                  neighborhood_overview  \\\n",
       "0     Indische Buurt (\"Indies Neighborhood\") is a ne...   \n",
       "1            Central, quiet, safe, clean and beautiful.   \n",
       "2     the street is quite lively especially on weeke...   \n",
       "3           You almost can't be more central then this.   \n",
       "4     Our neighborhood is a lovely part of Amsterdam...   \n",
       "...                                                 ...   \n",
       "4681  Cafes, restaurants and supermarket are just at...   \n",
       "4682  The Fokke Simonszstraat is a quiet street in t...   \n",
       "4683                                                NaN   \n",
       "4684                                                NaN   \n",
       "4685                                                NaN   \n",
       "\n",
       "                                            picture_url    host_id  \\\n",
       "0     https://a0.muscache.com/pictures/10272854/8dcc...       3159   \n",
       "1     https://a0.muscache.com/pictures/02c2da9d-660e...      97647   \n",
       "2     https://a0.muscache.com/pictures/162009/bd6be2...     124245   \n",
       "3     https://a0.muscache.com/pictures/241908/ec20bf...     188098   \n",
       "4     https://a0.muscache.com/pictures/32271278/ccff...     231864   \n",
       "...                                                 ...        ...   \n",
       "4681  https://a0.muscache.com/pictures/8f21dce1-daf5...   10389086   \n",
       "4682  https://a0.muscache.com/pictures/9e370e49-3354...  367808546   \n",
       "4683  https://a0.muscache.com/pictures/1854c2e4-266b...   29403408   \n",
       "4684  https://a0.muscache.com/pictures/766447f8-1ec7...  310835509   \n",
       "4685  https://a0.muscache.com/pictures/2ef85d3f-9c1e...   75268907   \n",
       "\n",
       "                                         host_url  ... review_scores_location  \\\n",
       "0          https://www.airbnb.com/users/show/3159  ...                    9.0   \n",
       "1         https://www.airbnb.com/users/show/97647  ...                   10.0   \n",
       "2        https://www.airbnb.com/users/show/124245  ...                   10.0   \n",
       "3        https://www.airbnb.com/users/show/188098  ...                   10.0   \n",
       "4        https://www.airbnb.com/users/show/231864  ...                    9.0   \n",
       "...                                           ...  ...                    ...   \n",
       "4681   https://www.airbnb.com/users/show/10389086  ...                    NaN   \n",
       "4682  https://www.airbnb.com/users/show/367808546  ...                    NaN   \n",
       "4683   https://www.airbnb.com/users/show/29403408  ...                    NaN   \n",
       "4684  https://www.airbnb.com/users/show/310835509  ...                    NaN   \n",
       "4685   https://www.airbnb.com/users/show/75268907  ...                    NaN   \n",
       "\n",
       "     review_scores_value license instant_bookable  \\\n",
       "0                   10.0     NaN                t   \n",
       "1                   10.0     NaN                t   \n",
       "2                    9.0     NaN                f   \n",
       "3                    9.0     NaN                f   \n",
       "4                   10.0     NaN                f   \n",
       "...                  ...     ...              ...   \n",
       "4681                 NaN     NaN                t   \n",
       "4682                 NaN     NaN                t   \n",
       "4683                 NaN     NaN                t   \n",
       "4684                 NaN     NaN                t   \n",
       "4685                 NaN     NaN                f   \n",
       "\n",
       "     calculated_host_listings_count  \\\n",
       "0                                 1   \n",
       "1                                 1   \n",
       "2                                 2   \n",
       "3                                 1   \n",
       "4                                 1   \n",
       "...                             ...   \n",
       "4681                              2   \n",
       "4682                              5   \n",
       "4683                              1   \n",
       "4684                              1   \n",
       "4685                              1   \n",
       "\n",
       "     calculated_host_listings_count_entire_homes  \\\n",
       "0                                              0   \n",
       "1                                              0   \n",
       "2                                              0   \n",
       "3                                              1   \n",
       "4                                              1   \n",
       "...                                          ...   \n",
       "4681                                           0   \n",
       "4682                                           0   \n",
       "4683                                           0   \n",
       "4684                                           1   \n",
       "4685                                           1   \n",
       "\n",
       "     calculated_host_listings_count_private_rooms  \\\n",
       "0                                               1   \n",
       "1                                               1   \n",
       "2                                               2   \n",
       "3                                               0   \n",
       "4                                               0   \n",
       "...                                           ...   \n",
       "4681                                            2   \n",
       "4682                                            5   \n",
       "4683                                            1   \n",
       "4684                                            0   \n",
       "4685                                            0   \n",
       "\n",
       "     calculated_host_listings_count_shared_rooms reviews_per_month   predicted  \n",
       "0                                              0              1.98  102.508658  \n",
       "1                                              0              2.05  104.656624  \n",
       "2                                              0              4.13   40.420430  \n",
       "3                                              0              5.03  139.036759  \n",
       "4                                              0              0.22  251.343885  \n",
       "...                                          ...               ...         ...  \n",
       "4681                                           0               NaN  158.776948  \n",
       "4682                                           0               NaN  147.520442  \n",
       "4683                                           0               NaN  123.093822  \n",
       "4684                                           0               NaN  719.214965  \n",
       "4685                                           0               NaN  121.065285  \n",
       "\n",
       "[4686 rows x 75 columns]"
      ]
     },
     "execution_count": 54,
     "metadata": {},
     "output_type": "execute_result"
    }
   ],
   "source": [
    "df_final = pd.merge(listings,dfnew[['id','predicted']], on='id', how = 'inner')\n",
    "\n",
    "df_final\n",
    "\n"
   ]
  },
  {
   "cell_type": "code",
   "execution_count": 55,
   "metadata": {},
   "outputs": [],
   "source": [
    "df_final.to_csv(r'data/PredictedPrices.csv')"
   ]
  },
  {
   "cell_type": "code",
   "execution_count": null,
   "metadata": {},
   "outputs": [],
   "source": []
  }
 ],
 "metadata": {
  "kernelspec": {
   "display_name": "Python 3",
   "language": "python",
   "name": "python3"
  },
  "language_info": {
   "codemirror_mode": {
    "name": "ipython",
    "version": 3
   },
   "file_extension": ".py",
   "mimetype": "text/x-python",
   "name": "python",
   "nbconvert_exporter": "python",
   "pygments_lexer": "ipython3",
   "version": "3.6.10"
  }
 },
 "nbformat": 4,
 "nbformat_minor": 4
}
