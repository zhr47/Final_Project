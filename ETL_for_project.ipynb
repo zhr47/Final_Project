{
 "cells": [
  {
   "cell_type": "code",
   "execution_count": 1,
   "metadata": {},
   "outputs": [],
   "source": [
    "import pandas as pd\n",
    "import numpy as np\n",
    "from numpy import *\n",
    "from math import nan"
   ]
  },
  {
   "cell_type": "code",
   "execution_count": 2,
   "metadata": {},
   "outputs": [],
   "source": [
    "df = pd.read_csv(\"data/listings.csv\")"
   ]
  },
  {
   "cell_type": "code",
   "execution_count": 3,
   "metadata": {},
   "outputs": [],
   "source": [
    "df.host_is_superhost = df.host_is_superhost.str.replace(\"f\",\"0\")\n",
    "df.host_is_superhost = df.host_is_superhost.str.replace(\"t\",\"1\")\n",
    "df.host_identity_verified = df.host_identity_verified.str.replace(\"f\",\"0\")\n",
    "df.host_identity_verified = df.host_identity_verified.str.replace(\"t\",\"1\")\n",
    "df.instant_bookable = df.instant_bookable.str.replace(\"f\",\"0\")\n",
    "df.instant_bookable = df.instant_bookable.str.replace(\"t\",\"1\")\n",
    "df['amenities_count'] = df.amenities.str.count(',')"
   ]
  },
  {
   "cell_type": "code",
   "execution_count": 4,
   "metadata": {},
   "outputs": [
    {
     "data": {
      "text/html": [
       "<div>\n",
       "<style scoped>\n",
       "    .dataframe tbody tr th:only-of-type {\n",
       "        vertical-align: middle;\n",
       "    }\n",
       "\n",
       "    .dataframe tbody tr th {\n",
       "        vertical-align: top;\n",
       "    }\n",
       "\n",
       "    .dataframe thead th {\n",
       "        text-align: right;\n",
       "    }\n",
       "</style>\n",
       "<table border=\"1\" class=\"dataframe\">\n",
       "  <thead>\n",
       "    <tr style=\"text-align: right;\">\n",
       "      <th></th>\n",
       "      <th>host_is_superhost</th>\n",
       "      <th>host_identity_verified</th>\n",
       "      <th>bedrooms</th>\n",
       "      <th>beds</th>\n",
       "      <th>accommodates</th>\n",
       "      <th>number_of_reviews</th>\n",
       "      <th>review_scores_rating</th>\n",
       "      <th>reviews_per_month</th>\n",
       "      <th>amenities_count</th>\n",
       "      <th>host_listings_count</th>\n",
       "      <th>instant_bookable</th>\n",
       "      <th>reviews_per_month</th>\n",
       "      <th>price</th>\n",
       "    </tr>\n",
       "  </thead>\n",
       "  <tbody>\n",
       "    <tr>\n",
       "      <th>0</th>\n",
       "      <td>1</td>\n",
       "      <td>1</td>\n",
       "      <td>1.0</td>\n",
       "      <td>2.0</td>\n",
       "      <td>2</td>\n",
       "      <td>278</td>\n",
       "      <td>98.0</td>\n",
       "      <td>1.98</td>\n",
       "      <td>25</td>\n",
       "      <td>1.0</td>\n",
       "      <td>1</td>\n",
       "      <td>1.98</td>\n",
       "      <td>$59.00</td>\n",
       "    </tr>\n",
       "    <tr>\n",
       "      <th>1</th>\n",
       "      <td>0</td>\n",
       "      <td>1</td>\n",
       "      <td>1.0</td>\n",
       "      <td>1.0</td>\n",
       "      <td>2</td>\n",
       "      <td>340</td>\n",
       "      <td>89.0</td>\n",
       "      <td>2.63</td>\n",
       "      <td>16</td>\n",
       "      <td>2.0</td>\n",
       "      <td>1</td>\n",
       "      <td>2.63</td>\n",
       "      <td>$236.00</td>\n",
       "    </tr>\n",
       "    <tr>\n",
       "      <th>2</th>\n",
       "      <td>1</td>\n",
       "      <td>0</td>\n",
       "      <td>1.0</td>\n",
       "      <td>1.0</td>\n",
       "      <td>3</td>\n",
       "      <td>5</td>\n",
       "      <td>100.0</td>\n",
       "      <td>0.15</td>\n",
       "      <td>28</td>\n",
       "      <td>2.0</td>\n",
       "      <td>0</td>\n",
       "      <td>0.15</td>\n",
       "      <td>$125.00</td>\n",
       "    </tr>\n",
       "    <tr>\n",
       "      <th>3</th>\n",
       "      <td>1</td>\n",
       "      <td>1</td>\n",
       "      <td>1.0</td>\n",
       "      <td>1.0</td>\n",
       "      <td>2</td>\n",
       "      <td>219</td>\n",
       "      <td>99.0</td>\n",
       "      <td>2.05</td>\n",
       "      <td>23</td>\n",
       "      <td>1.0</td>\n",
       "      <td>1</td>\n",
       "      <td>2.05</td>\n",
       "      <td>$138.00</td>\n",
       "    </tr>\n",
       "    <tr>\n",
       "      <th>4</th>\n",
       "      <td>1</td>\n",
       "      <td>1</td>\n",
       "      <td>1.0</td>\n",
       "      <td>1.0</td>\n",
       "      <td>2</td>\n",
       "      <td>336</td>\n",
       "      <td>97.0</td>\n",
       "      <td>2.72</td>\n",
       "      <td>14</td>\n",
       "      <td>2.0</td>\n",
       "      <td>0</td>\n",
       "      <td>2.72</td>\n",
       "      <td>$75.00</td>\n",
       "    </tr>\n",
       "  </tbody>\n",
       "</table>\n",
       "</div>"
      ],
      "text/plain": [
       "  host_is_superhost host_identity_verified  bedrooms  beds  accommodates  \\\n",
       "0                 1                      1       1.0   2.0             2   \n",
       "1                 0                      1       1.0   1.0             2   \n",
       "2                 1                      0       1.0   1.0             3   \n",
       "3                 1                      1       1.0   1.0             2   \n",
       "4                 1                      1       1.0   1.0             2   \n",
       "\n",
       "   number_of_reviews  review_scores_rating  reviews_per_month  \\\n",
       "0                278                  98.0               1.98   \n",
       "1                340                  89.0               2.63   \n",
       "2                  5                 100.0               0.15   \n",
       "3                219                  99.0               2.05   \n",
       "4                336                  97.0               2.72   \n",
       "\n",
       "   amenities_count  host_listings_count instant_bookable  reviews_per_month  \\\n",
       "0               25                  1.0                1               1.98   \n",
       "1               16                  2.0                1               2.63   \n",
       "2               28                  2.0                0               0.15   \n",
       "3               23                  1.0                1               2.05   \n",
       "4               14                  2.0                0               2.72   \n",
       "\n",
       "     price  \n",
       "0   $59.00  \n",
       "1  $236.00  \n",
       "2  $125.00  \n",
       "3  $138.00  \n",
       "4   $75.00  "
      ]
     },
     "execution_count": 4,
     "metadata": {},
     "output_type": "execute_result"
    }
   ],
   "source": [
    "df_simple = df[[\n",
    "    'host_is_superhost',\n",
    "    'host_identity_verified',\n",
    "    'bedrooms',\n",
    "    'beds',\n",
    "    'accommodates',\n",
    "    'number_of_reviews',\n",
    "    'review_scores_rating',\n",
    "    'reviews_per_month',\n",
    "    'amenities_count',\n",
    "    'host_listings_count',\n",
    "    'instant_bookable',\n",
    "    'reviews_per_month',\n",
    "    'price',]]\n",
    "df_simple.head()"
   ]
  },
  {
   "cell_type": "code",
   "execution_count": 5,
   "metadata": {},
   "outputs": [],
   "source": [
    "df_simple = df_simple.fillna(0)"
   ]
  },
  {
   "cell_type": "code",
   "execution_count": 6,
   "metadata": {},
   "outputs": [],
   "source": [
    "df_complex = df[['id',\n",
    "         'host_is_superhost',\n",
    "         'host_neighbourhood',\n",
    "         'neighbourhood',\n",
    "         'neighbourhood_cleansed',\n",
    "         'latitude',\n",
    "         'longitude',\n",
    "         'property_type',\n",
    "         'room_type',\n",
    "         'accommodates',\n",
    "         'bathrooms_text',\n",
    "         'bedrooms',\n",
    "         'beds',\n",
    "         'amenities',\n",
    "         'price',\n",
    "         'number_of_reviews',\n",
    "         'review_scores_rating',\n",
    "         'review_scores_location'                   \n",
    "                     ]]"
   ]
  },
  {
   "cell_type": "code",
   "execution_count": 7,
   "metadata": {},
   "outputs": [],
   "source": [
    "#df_amenities = df[0:9,:]\n",
    "#df_amenities.head()"
   ]
  },
  {
   "cell_type": "code",
   "execution_count": 8,
   "metadata": {},
   "outputs": [],
   "source": [
    "#for listing in df_amenities[0:9,:]:\n",
    "#    for amenity in df_amenities.amenities:\n",
    "#        df_amenities[amenity] = 0\n",
    "        # df_amenities.iloc[listing,amenity] = 1\n",
    "        "
   ]
  },
  {
   "cell_type": "code",
   "execution_count": null,
   "metadata": {},
   "outputs": [],
   "source": []
  },
  {
   "cell_type": "code",
   "execution_count": null,
   "metadata": {},
   "outputs": [],
   "source": []
  },
  {
   "cell_type": "code",
   "execution_count": null,
   "metadata": {},
   "outputs": [],
   "source": []
  },
  {
   "cell_type": "code",
   "execution_count": null,
   "metadata": {},
   "outputs": [],
   "source": []
  },
  {
   "cell_type": "code",
   "execution_count": null,
   "metadata": {},
   "outputs": [],
   "source": []
  },
  {
   "cell_type": "code",
   "execution_count": 9,
   "metadata": {},
   "outputs": [],
   "source": [
    "df_simple.to_csv(r'data/simple_data_for_ML.csv')"
   ]
  },
  {
   "cell_type": "code",
   "execution_count": null,
   "metadata": {},
   "outputs": [],
   "source": []
  }
 ],
 "metadata": {
  "kernelspec": {
   "display_name": "Python 3",
   "language": "python",
   "name": "python3"
  },
  "language_info": {
   "codemirror_mode": {
    "name": "ipython",
    "version": 3
   },
   "file_extension": ".py",
   "mimetype": "text/x-python",
   "name": "python",
   "nbconvert_exporter": "python",
   "pygments_lexer": "ipython3",
   "version": "3.6.10"
  }
 },
 "nbformat": 4,
 "nbformat_minor": 4
}
