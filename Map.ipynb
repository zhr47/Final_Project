{
 "cells": [
  {
   "cell_type": "code",
   "execution_count": null,
   "metadata": {},
   "outputs": [],
   "source": [
    "# general\n",
    "import pandas as pd\n",
    "import numpy as np\n",
    "#import seaborn as sns\n",
    "import matplotlib.pyplot as plt\n",
    "\n",
    "# Geographical analysis\n",
    "import geopandas as gpd #libspatialindex nees to be installed first\n",
    "import json # library to handle JSON files\n",
    "from pandas.io.json import json_normalize # tranform JSON file into a pandas dataframe\n",
    "#import shapefile as shp\n",
    "import datetime\n",
    "#from statsmodels.tsa.seasonal import seasonal_decompose\n",
    "import requests\n",
    "#import descartes"
   ]
  },
  {
   "cell_type": "code",
   "execution_count": null,
   "metadata": {},
   "outputs": [],
   "source": [
    "df = pd.read_csv('data/listings.csv')"
   ]
  },
  {
   "cell_type": "code",
   "execution_count": null,
   "metadata": {},
   "outputs": [],
   "source": []
  },
  {
   "cell_type": "code",
   "execution_count": null,
   "metadata": {},
   "outputs": [],
   "source": [
    "# Renaming the neighbourhood column\n",
    "df.rename(columns={'neighbourhood_cleansed': 'borough'}, inplace=True)\n",
    "\n",
    "# Importing the Edinburgh borough boundary GeoJSON file as a dataframe in geopandas\n",
    "map_df = gpd.read_file(r'data/neighbourhoods.geojson')\n",
    "map_df.head()"
   ]
  },
  {
   "cell_type": "code",
   "execution_count": null,
   "metadata": {},
   "outputs": [],
   "source": [
    "# Dropping the empty column\n",
    "map_df.drop('neighbourhood_group', axis=1, inplace=True)\n",
    "\n",
    "# Creating a dataframe of listing counts and median price by borough\n",
    "borough_df = pd.DataFrame(df.groupby('borough').size())\n",
    "borough_df.rename(columns={0: 'number_of_listings'}, inplace=True)\n",
    "borough_df['median_price'] = df.groupby('borough').price.median().values\n",
    "\n",
    "# Joining the dataframes\n",
    "borough_map_df = map_df.set_index('neighbourhood').join(borough_df)\n",
    "\n",
    "borough_map_df.head()"
   ]
  },
  {
   "cell_type": "code",
   "execution_count": null,
   "metadata": {},
   "outputs": [],
   "source": [
    "# Plotting the number of listings in each borough\n",
    "fig1, ax1 = plt.subplots(1, figsize=(15, 6))\n",
    "borough_map_df.plot(column='number_of_listings', cmap='Reds', ax=ax1)\n",
    "ax1.axis('off')\n",
    "ax1.set_title('Number of Airbnb listings in each Edinburgh borough', fontsize=14)\n",
    "sm = plt.cm.ScalarMappable(cmap='Reds', norm=plt.Normalize(vmin=0, vmax=9000))\n",
    "sm._A = [] # Creates an empty array for the data range\n",
    "cbar = fig1.colorbar(sm)\n",
    "plt.show()\n",
    "\n",
    "# Plotting the median price of listings in each borough\n",
    "fig2, ax2 = plt.subplots(1, figsize=(15, 6))\n",
    "borough_map_df.plot(column='median_price', cmap='Reds', ax=ax2)\n",
    "ax2.axis('off')\n",
    "ax2.set_title('Median price of Airbnb listings in each Edinburgh borough', fontsize=14)\n",
    "sm = plt.cm.ScalarMappable(cmap='Reds', norm=plt.Normalize(vmin=min(borough_map_df.median_price), vmax=max(borough_map_df.median_price)))\n",
    "sm._A = [] # Creates an empty array for the data range\n",
    "cbar = fig2.colorbar(sm)\n",
    "plt.show()"
   ]
  }
 ],
 "metadata": {
  "kernelspec": {
   "display_name": "Python 3",
   "language": "python",
   "name": "python3"
  },
  "language_info": {
   "codemirror_mode": {
    "name": "ipython",
    "version": 3
   },
   "file_extension": ".py",
   "mimetype": "text/x-python",
   "name": "python",
   "nbconvert_exporter": "python",
   "pygments_lexer": "ipython3",
   "version": "3.6.10"
  }
 },
 "nbformat": 4,
 "nbformat_minor": 4
}
